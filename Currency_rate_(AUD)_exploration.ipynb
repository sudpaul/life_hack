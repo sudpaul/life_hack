{
 "cells": [
  {
   "cell_type": "code",
   "execution_count": 1,
   "metadata": {
    "collapsed": false
   },
   "outputs": [],
   "source": [
    "import numpy as np\n",
    "import pandas as pd\n",
    "import matplotlib.pyplot as plt\n",
    "import seaborn as sns\n",
    "\n",
    "plt.style.use('seaborn-bright')\n",
    "%matplotlib inline"
   ]
  },
  {
   "cell_type": "code",
   "execution_count": 2,
   "metadata": {
    "collapsed": false
   },
   "outputs": [],
   "source": [
    "currency = pd.read_csv(\"./data/currency_exchange_rate.csv\", index_col = 0)"
   ]
  },
  {
   "cell_type": "code",
   "execution_count": 3,
   "metadata": {
    "collapsed": false
   },
   "outputs": [
    {
     "data": {
      "text/html": [
       "<div>\n",
       "<table border=\"1\" class=\"dataframe\">\n",
       "  <thead>\n",
       "    <tr style=\"text-align: right;\">\n",
       "      <th></th>\n",
       "      <th>LOCATION</th>\n",
       "      <th>TIME</th>\n",
       "      <th>Value</th>\n",
       "      <th>MEASURE</th>\n",
       "    </tr>\n",
       "  </thead>\n",
       "  <tbody>\n",
       "    <tr>\n",
       "      <th>0</th>\n",
       "      <td>AUS</td>\n",
       "      <td>1950</td>\n",
       "      <td>0.892857</td>\n",
       "      <td>NATUSD</td>\n",
       "    </tr>\n",
       "    <tr>\n",
       "      <th>1</th>\n",
       "      <td>AUS</td>\n",
       "      <td>1951</td>\n",
       "      <td>0.892857</td>\n",
       "      <td>NATUSD</td>\n",
       "    </tr>\n",
       "    <tr>\n",
       "      <th>2</th>\n",
       "      <td>AUS</td>\n",
       "      <td>1952</td>\n",
       "      <td>0.892857</td>\n",
       "      <td>NATUSD</td>\n",
       "    </tr>\n",
       "    <tr>\n",
       "      <th>3</th>\n",
       "      <td>AUS</td>\n",
       "      <td>1953</td>\n",
       "      <td>0.892857</td>\n",
       "      <td>NATUSD</td>\n",
       "    </tr>\n",
       "    <tr>\n",
       "      <th>4</th>\n",
       "      <td>AUS</td>\n",
       "      <td>1954</td>\n",
       "      <td>0.892857</td>\n",
       "      <td>NATUSD</td>\n",
       "    </tr>\n",
       "  </tbody>\n",
       "</table>\n",
       "</div>"
      ],
      "text/plain": [
       "  LOCATION  TIME     Value MEASURE\n",
       "0      AUS  1950  0.892857  NATUSD\n",
       "1      AUS  1951  0.892857  NATUSD\n",
       "2      AUS  1952  0.892857  NATUSD\n",
       "3      AUS  1953  0.892857  NATUSD\n",
       "4      AUS  1954  0.892857  NATUSD"
      ]
     },
     "execution_count": 3,
     "metadata": {},
     "output_type": "execute_result"
    }
   ],
   "source": [
    "currency.head()"
   ]
  },
  {
   "cell_type": "code",
   "execution_count": 4,
   "metadata": {
    "collapsed": false
   },
   "outputs": [
    {
     "name": "stdout",
     "output_type": "stream",
     "text": [
      "<class 'pandas.core.frame.DataFrame'>\n",
      "Int64Index: 3205 entries, 0 to 3204\n",
      "Data columns (total 4 columns):\n",
      "LOCATION    3205 non-null object\n",
      "TIME        3205 non-null int64\n",
      "Value       3205 non-null float64\n",
      "MEASURE     3205 non-null object\n",
      "dtypes: float64(1), int64(1), object(2)\n",
      "memory usage: 125.2+ KB\n"
     ]
    }
   ],
   "source": [
    "currency.info()\n"
   ]
  },
  {
   "cell_type": "code",
   "execution_count": 5,
   "metadata": {
    "collapsed": true
   },
   "outputs": [],
   "source": [
    "currency.TIME = pd.to_datetime(currency.TIME, format='%Y')"
   ]
  },
  {
   "cell_type": "code",
   "execution_count": 6,
   "metadata": {
    "collapsed": false
   },
   "outputs": [
    {
     "data": {
      "text/plain": [
       "LOCATION            object\n",
       "TIME        datetime64[ns]\n",
       "Value              float64\n",
       "MEASURE             object\n",
       "dtype: object"
      ]
     },
     "execution_count": 6,
     "metadata": {},
     "output_type": "execute_result"
    }
   ],
   "source": [
    "currency.dtypes"
   ]
  },
  {
   "cell_type": "code",
   "execution_count": 7,
   "metadata": {
    "collapsed": true
   },
   "outputs": [],
   "source": [
    "aud = currency.loc[currency['LOCATION']== 'AUS',:]"
   ]
  },
  {
   "cell_type": "code",
   "execution_count": 8,
   "metadata": {
    "collapsed": false
   },
   "outputs": [
    {
     "data": {
      "text/plain": [
       "(68, 4)"
      ]
     },
     "execution_count": 8,
     "metadata": {},
     "output_type": "execute_result"
    }
   ],
   "source": [
    "aud.shape"
   ]
  },
  {
   "cell_type": "code",
   "execution_count": 9,
   "metadata": {
    "collapsed": false
   },
   "outputs": [
    {
     "data": {
      "text/plain": [
       "count    68.000000\n",
       "mean      1.113952\n",
       "std       0.283354\n",
       "min       0.696666\n",
       "25%       0.892857\n",
       "50%       0.977663\n",
       "75%       1.328752\n",
       "max       1.933443\n",
       "Name: Value, dtype: float64"
      ]
     },
     "execution_count": 9,
     "metadata": {},
     "output_type": "execute_result"
    }
   ],
   "source": [
    "aud['Value'].describe()"
   ]
  },
  {
   "cell_type": "code",
   "execution_count": 10,
   "metadata": {
    "collapsed": false
   },
   "outputs": [
    {
     "data": {
      "text/html": [
       "<div>\n",
       "<table border=\"1\" class=\"dataframe\">\n",
       "  <thead>\n",
       "    <tr style=\"text-align: right;\">\n",
       "      <th></th>\n",
       "      <th>LOCATION</th>\n",
       "      <th>TIME</th>\n",
       "      <th>Value</th>\n",
       "      <th>MEASURE</th>\n",
       "    </tr>\n",
       "  </thead>\n",
       "  <tbody>\n",
       "    <tr>\n",
       "      <th>63</th>\n",
       "      <td>AUS</td>\n",
       "      <td>2013-01-01</td>\n",
       "      <td>1.035843</td>\n",
       "      <td>NATUSD</td>\n",
       "    </tr>\n",
       "    <tr>\n",
       "      <th>64</th>\n",
       "      <td>AUS</td>\n",
       "      <td>2014-01-01</td>\n",
       "      <td>1.109363</td>\n",
       "      <td>NATUSD</td>\n",
       "    </tr>\n",
       "    <tr>\n",
       "      <th>65</th>\n",
       "      <td>AUS</td>\n",
       "      <td>2015-01-01</td>\n",
       "      <td>1.331090</td>\n",
       "      <td>NATUSD</td>\n",
       "    </tr>\n",
       "    <tr>\n",
       "      <th>66</th>\n",
       "      <td>AUS</td>\n",
       "      <td>2016-01-01</td>\n",
       "      <td>1.345214</td>\n",
       "      <td>NATUSD</td>\n",
       "    </tr>\n",
       "    <tr>\n",
       "      <th>67</th>\n",
       "      <td>AUS</td>\n",
       "      <td>2017-01-01</td>\n",
       "      <td>1.304758</td>\n",
       "      <td>NATUSD</td>\n",
       "    </tr>\n",
       "  </tbody>\n",
       "</table>\n",
       "</div>"
      ],
      "text/plain": [
       "   LOCATION       TIME     Value MEASURE\n",
       "63      AUS 2013-01-01  1.035843  NATUSD\n",
       "64      AUS 2014-01-01  1.109363  NATUSD\n",
       "65      AUS 2015-01-01  1.331090  NATUSD\n",
       "66      AUS 2016-01-01  1.345214  NATUSD\n",
       "67      AUS 2017-01-01  1.304758  NATUSD"
      ]
     },
     "execution_count": 10,
     "metadata": {},
     "output_type": "execute_result"
    }
   ],
   "source": [
    "aud.tail()"
   ]
  },
  {
   "cell_type": "code",
   "execution_count": 12,
   "metadata": {
    "collapsed": false
   },
   "outputs": [
    {
     "data": {
      "image/png": "[encoded data removed]",
      "text/plain": [
       "<matplotlib.figure.Figure at 0x1b5a16a1e80>"
      ]
     },
     "metadata": {},
     "output_type": "display_data"
    }
   ],
   "source": [
    "aud.plot(x='TIME', y='Value',  figsize=(16, 6), title = 'Australian $ Exchange rate');"
   ]
  },
  {
   "cell_type": "code",
   "execution_count": null,
   "metadata": {
    "collapsed": true
   },
   "outputs": [],
   "source": []
  }
 ],
 "metadata": {
  "kernelspec": {
   "display_name": "Python [Root]",
   "language": "python",
   "name": "Python [Root]"
  },
  "language_info": {
   "codemirror_mode": {
    "name": "ipython",
    "version": 3
   },
   "file_extension": ".py",
   "mimetype": "text/x-python",
   "name": "python",
   "nbconvert_exporter": "python",
   "pygments_lexer": "ipython3",
   "version": "3.5.2"
  }
 },
 "nbformat": 4,
 "nbformat_minor": 2
}
