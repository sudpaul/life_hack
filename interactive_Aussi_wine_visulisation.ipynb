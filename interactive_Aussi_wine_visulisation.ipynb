{
 "cells": [
  {
   "cell_type": "code",
   "execution_count": null,
   "metadata": {},
   "outputs": [],
   "source": [
    "import numpy as np\n",
    "import pandas as pd\n",
    "\n",
    "wine = pd.read_csv('data/Aussie_wines.csv',index_col=0)\n",
    "wine.head()"
   ]
  },
  {
   "cell_type": "code",
   "execution_count": null,
   "metadata": {},
   "outputs": [],
   "source": [
    "wine['province'].value_counts(dropna=False)"
   ]
  },
  {
   "cell_type": "code",
   "execution_count": null,
   "metadata": {},
   "outputs": [],
   "source": [
    "import pandas as pd\n",
    "from bokeh.plotting import figure\n",
    "from bokeh.layouts import layout, widgetbox\n",
    "from bokeh.models import ColumnDataSource, HoverTool, BoxZoomTool, ResetTool, PanTool\n",
    "from bokeh.models.widgets import Slider, Select, TextInput, Div\n",
    "from bokeh.models import WheelZoomTool, SaveTool, LassoSelectTool\n",
    "from bokeh.io import curdoc\n",
    "from functools import lru_cache"
   ]
  },
  {
   "cell_type": "code",
   "execution_count": null,
   "metadata": {},
   "outputs": [],
   "source": [
    "@lru_cache()\n",
    "def load_data():\n",
    "    df = pd.read_csv(\"data/Aussie_wines.csv\", index_col=0)\n",
    "    return df"
   ]
  },
  {
   "cell_type": "code",
   "execution_count": null,
   "metadata": {},
   "outputs": [],
   "source": [
    "cols = [\"price\", \"points\", \"variety\", \"province\", \"description\"]\n",
    "\n",
    "states = [\"All\", \"South Australia\", \"Victoria\", \"Western Australia\", \"Australia Other\", \"New South Wales\", \"Tasmania\"]"
   ]
  },
  {
   "cell_type": "code",
   "execution_count": null,
   "metadata": {},
   "outputs": [],
   "source": [
    "desc = Div(text=\"All Provinces\", width=800)\n",
    "province = Select(title=\"Province\", options=states, value=\"All\")\n",
    "price_max = Slider(start=0, end=900, step=5, value=200, title=\"Maximum Price\")\n",
    "title = TextInput(title=\"Title Contains\")\n",
    "details = Div(text=\"Selection Details:\", width=800)"
   ]
  },
  {
   "cell_type": "code",
   "execution_count": null,
   "metadata": {},
   "outputs": [],
   "source": [
    "source = ColumnDataSource(data=load_data())"
   ]
  },
  {
   "cell_type": "code",
   "execution_count": null,
   "metadata": {},
   "outputs": [],
   "source": [
    "hover = HoverTool(tooltips=[\n",
    "    (\"title\", \"@title\"),\n",
    "    (\"variety\", \"@variety\"),\n",
    "])\n",
    "TOOLS = [\n",
    "    hover, BoxZoomTool(), LassoSelectTool(), WheelZoomTool(), PanTool(),\n",
    "    ResetTool(), SaveTool()\n",
    "]"
   ]
  },
  {
   "cell_type": "code",
   "execution_count": null,
   "metadata": {},
   "outputs": [],
   "source": [
    "p = figure(\n",
    "    plot_height=600,\n",
    "    plot_width=700,\n",
    "    title=\"Australian Wine Analysis\",\n",
    "    tools=TOOLS,\n",
    "    x_axis_label=\"points\",\n",
    "    y_axis_label=\"price (USD)\",\n",
    "    toolbar_location=\"above\")\n",
    "\n",
    "p.circle(\n",
    "    y=\"price\",\n",
    "    x=\"points\",\n",
    "    source=source,\n",
    "    color=\"variety_color\",\n",
    "    size=7,\n",
    "    alpha=0.4)"
   ]
  },
  {
   "cell_type": "code",
   "execution_count": null,
   "metadata": {},
   "outputs": [],
   "source": [
    "def select_reviews():\n",
    "    \"\"\" Use the current selections to determine which filters to apply to the\n",
    "    data. Return a dataframe of the selected data\n",
    "    \"\"\"\n",
    "    df = load_data()\n",
    "\n",
    "    # Determine what has been selected for each widgetd\n",
    "    max_price = price_max.value\n",
    "    province_val = province.value\n",
    "    title_val = title.value\n",
    "\n",
    "    # Filter by price and province\n",
    "    if province_val == \"All\":\n",
    "        selected = df[df.price <= max_price]\n",
    "    else:\n",
    "        selected = df[(df.province == province_val) & (df.price <= max_price)]\n",
    "\n",
    "    # Further filter by string in title if it is provided\n",
    "    if title_val != \"\":\n",
    "        selected = selected[selected.title.str.contains(title_val) == True]\n",
    "\n",
    "    # Example showing how to update the description\n",
    "    desc.text = \"Province: {} and Price < {}\".format(province_val, max_price)\n",
    "    return selected\n"
   ]
  },
  {
   "cell_type": "code",
   "execution_count": null,
   "metadata": {},
   "outputs": [],
   "source": [
    "def update():\n",
    "    \"\"\" Get the selected data and update the data in the source\n",
    "    \"\"\"\n",
    "    df_active = select_reviews()\n",
    "    source.data = ColumnDataSource(data=df_active).data\n",
    "\n",
    "\n",
    "def selection_change(attrname, old, new):\n",
    "    \"\"\" Function will be called when the poly select (or other selection tool)\n",
    "    is used. Determine which items are selected and show the details below\n",
    "    the graph\n",
    "    \"\"\"\n",
    "    selected = source.selected[\"1d\"][\"indices\"]\n",
    "\n",
    "    # Need to get a list of the active reviews so the indices will match up\n",
    "    df_active = select_reviews()\n",
    "\n",
    "    # If something is selected, then get those details and format the results\n",
    "    # as an HTML table\n",
    "    if selected:\n",
    "        data = df_active.iloc[selected, :]\n",
    "        temp = data.set_index(\"title\").T.reindex(index=col_order)\n",
    "        details.text = temp.style.render()\n",
    "    else:\n",
    "        details.text = \"Selection Details\""
   ]
  },
  {
   "cell_type": "code",
   "execution_count": null,
   "metadata": {},
   "outputs": [],
   "source": [
    "source.on_change(\"selected\", selection_change)"
   ]
  },
  {
   "cell_type": "code",
   "execution_count": null,
   "metadata": {},
   "outputs": [],
   "source": [
    "inputs = widgetbox(*controls, sizing_mode=\"fixed\")\n"
   ]
  },
  {
   "cell_type": "code",
   "execution_count": null,
   "metadata": {},
   "outputs": [],
   "source": [
    "l = layout([[desc], [inputs, p], [details]], sizing_mode=\"fixed\")\n",
    "update()\n",
    "curdoc().add_root(l)\n",
    "\n",
    "# Show the title in the browser bar\n",
    "curdoc().title = \"Australian Wine Analysis\""
   ]
  }
 ],
 "metadata": {
  "kernelspec": {
   "display_name": "Python 3",
   "language": "python",
   "name": "python3"
  },
  "language_info": {
   "codemirror_mode": {
    "name": "ipython",
    "version": 3
   },
   "file_extension": ".py",
   "mimetype": "text/x-python",
   "name": "python",
   "nbconvert_exporter": "python",
   "pygments_lexer": "ipython3",
   "version": "3.6.5"
  },
  "toc": {
   "base_numbering": 1,
   "nav_menu": {},
   "number_sections": true,
   "sideBar": true,
   "skip_h1_title": false,
   "title_cell": "Table of Contents",
   "title_sidebar": "Contents",
   "toc_cell": false,
   "toc_position": {},
   "toc_section_display": true,
   "toc_window_display": false
  },
  "varInspector": {
   "cols": {
    "lenName": 16,
    "lenType": 16,
    "lenVar": 40
   },
   "kernels_config": {
    "python": {
     "delete_cmd_postfix": "",
     "delete_cmd_prefix": "del ",
     "library": "var_list.py",
     "varRefreshCmd": "print(var_dic_list())"
    },
    "r": {
     "delete_cmd_postfix": ") ",
     "delete_cmd_prefix": "rm(",
     "library": "var_list.r",
     "varRefreshCmd": "cat(var_dic_list()) "
    }
   },
   "types_to_exclude": [
    "module",
    "function",
    "builtin_function_or_method",
    "instance",
    "_Feature"
   ],
   "window_display": false
  }
 },
 "nbformat": 4,
 "nbformat_minor": 2
}
